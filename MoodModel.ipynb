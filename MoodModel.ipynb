{
 "cells": [
  {
   "cell_type": "code",
   "execution_count": 1,
   "metadata": {},
   "outputs": [
    {
     "data": {
      "text/plain": [
       "Mood                       object\n",
       "track_acousticness        float64\n",
       "track_danceability        float64\n",
       "track_energy              float64\n",
       "track_instrumentalness    float64\n",
       "track_liveness            float64\n",
       "track_speechiness         float64\n",
       "track_tempo               float64\n",
       "track_valence             float64\n",
       "dtype: object"
      ]
     },
     "execution_count": 1,
     "metadata": {},
     "output_type": "execute_result"
    },
    {
     "data": {
      "image/png": "[encoded data removed]",
      "text/plain": [
       "<Figure size 432x288 with 1 Axes>"
      ]
     },
     "metadata": {
      "needs_background": "light"
     },
     "output_type": "display_data"
    }
   ],
   "source": [
    "import matplotlib.pyplot as plt # plotting library\n",
    "import numpy as np # library for numerical calculations\n",
    "import pandas as pd # library for reading csv files\n",
    "import seaborn as sns\n",
    "\n",
    "data = pd.read_csv(\"clustered.csv\")\n",
    "\n",
    "sns.countplot(y=\"Mood\", data=data)\n",
    "\n",
    "data.dtypes"
   ]
  },
  {
   "cell_type": "code",
   "execution_count": 3,
   "metadata": {},
   "outputs": [],
   "source": [
    "from sklearn.metrics import classification_report, confusion_matrix\n",
    "\n",
    "def evaluate_on_training_set(y_test, y_pred):\n",
    "    \n",
    "  print(classification_report(y_test,  y_pred, zero_division=0))\n",
    "  print(confusion_matrix(y_test,y_pred))"
   ]
  },
  {
   "cell_type": "code",
   "execution_count": 4,
   "metadata": {},
   "outputs": [],
   "source": [
    "from sklearn.model_selection import train_test_split\n",
    "\n",
    "X_train, X_test, y_train, y_test = train_test_split(data.drop('Mood',1), \n",
    "                                                    data['Mood'],\n",
    "                                                    test_size=0.3,\n",
    "                                                    random_state=0) "
   ]
  },
  {
   "cell_type": "code",
   "execution_count": 5,
   "metadata": {},
   "outputs": [],
   "source": [
    "from sklearn.preprocessing import MinMaxScaler\n",
    " \n",
    "x_scaler = MinMaxScaler() \n",
    "x_scaler.fit(X_train)\n",
    "\n",
    "X_train_norm = x_scaler.transform(X_train)\n",
    "X_test_norm = x_scaler.transform(X_test)"
   ]
  },
  {
   "cell_type": "code",
   "execution_count": 12,
   "metadata": {},
   "outputs": [
    {
     "name": "stdout",
     "output_type": "stream",
     "text": [
      "                       precision    recall  f1-score   support\n",
      "\n",
      "                Angry       0.94      0.95      0.94       440\n",
      "Cheerful Instrumental       0.93      0.94      0.94       646\n",
      "      Cheerful Vocals       0.96      0.97      0.97       343\n",
      "             Exciting       0.95      0.92      0.94       457\n",
      "                Happy       0.95      0.98      0.97       359\n",
      "                Sober       0.95      0.92      0.94       519\n",
      "\n",
      "             accuracy                           0.95      2764\n",
      "            macro avg       0.95      0.95      0.95      2764\n",
      "         weighted avg       0.95      0.95      0.94      2764\n",
      "\n",
      "[[418   5   0  13   2   2]\n",
      " [  5 609   8   6   5  13]\n",
      " [  0   2 332   0   5   4]\n",
      " [ 17   7   0 422   6   5]\n",
      " [  1   0   4   2 352   0]\n",
      " [  6  33   1   0   0 479]]\n"
     ]
    }
   ],
   "source": [
    "# Method 1: Decision Tree\n",
    "from sklearn import tree\n",
    "\n",
    "model01 = tree.DecisionTreeClassifier(max_depth=9) \n",
    "model01.fit(X_train,y_train)\n",
    "y_pred = model01.predict(X_test)\n",
    "\n",
    "evaluate_on_training_set(y_test, y_pred)"
   ]
  },
  {
   "cell_type": "code",
   "execution_count": 23,
   "metadata": {},
   "outputs": [
    {
     "name": "stdout",
     "output_type": "stream",
     "text": [
      "                       precision    recall  f1-score   support\n",
      "\n",
      "                Angry       0.94      0.96      0.95       440\n",
      "Cheerful Instrumental       0.93      0.98      0.95       646\n",
      "      Cheerful Vocals       0.98      0.95      0.96       343\n",
      "             Exciting       0.95      0.91      0.93       457\n",
      "                Happy       0.99      0.95      0.97       359\n",
      "                Sober       0.97      0.97      0.97       519\n",
      "\n",
      "             accuracy                           0.96      2764\n",
      "            macro avg       0.96      0.95      0.96      2764\n",
      "         weighted avg       0.96      0.96      0.96      2764\n",
      "\n",
      "[[424   5   0  11   0   0]\n",
      " [  1 630   2   3   0  10]\n",
      " [  0   9 327   0   4   3]\n",
      " [ 20  17   0 418   0   2]\n",
      " [  3   2   6   6 342   0]\n",
      " [  1  17   0   0   0 501]]\n"
     ]
    }
   ],
   "source": [
    "# Method 2 : K neighbors\n",
    "from sklearn.neighbors import KNeighborsClassifier\n",
    "\n",
    "model02 = KNeighborsClassifier(n_neighbors=17)\n",
    "\n",
    "model02.fit(X_train_norm, y_train) \n",
    "\n",
    "y_pred = model02.predict(X_test_norm)\n",
    "evaluate_on_training_set(y_test, y_pred)"
   ]
  },
  {
   "cell_type": "code",
   "execution_count": 34,
   "metadata": {},
   "outputs": [
    {
     "name": "stdout",
     "output_type": "stream",
     "text": [
      "                       precision    recall  f1-score   support\n",
      "\n",
      "                Angry       0.87      0.90      0.89       440\n",
      "Cheerful Instrumental       0.82      0.85      0.84       646\n",
      "      Cheerful Vocals       0.96      0.93      0.94       343\n",
      "             Exciting       0.88      0.88      0.88       457\n",
      "                Happy       0.97      0.96      0.96       359\n",
      "                Sober       0.87      0.81      0.84       519\n",
      "\n",
      "             accuracy                           0.88      2764\n",
      "            macro avg       0.89      0.89      0.89      2764\n",
      "         weighted avg       0.88      0.88      0.88      2764\n",
      "\n",
      "[[397  11   0  29   3   0]\n",
      " [  4 551   4  22   0  65]\n",
      " [  0  17 320   1   5   0]\n",
      " [ 49   2   0 404   2   0]\n",
      " [  0   1  11   4 343   0]\n",
      " [  7  91   0   1   0 420]]\n"
     ]
    }
   ],
   "source": [
    "# Method 3 : AdaBoost\n",
    "from sklearn.ensemble import AdaBoostClassifier\n",
    "model03 = AdaBoostClassifier(n_estimators=1200, learning_rate=0.1)\n",
    "\n",
    "model03.fit(X_train_norm, y_train) \n",
    "\n",
    "y_pred = model03.predict(X_test_norm) \n",
    "evaluate_on_training_set(y_test, y_pred)"
   ]
  },
  {
   "cell_type": "code",
   "execution_count": 44,
   "metadata": {},
   "outputs": [
    {
     "name": "stdout",
     "output_type": "stream",
     "text": [
      "                       precision    recall  f1-score   support\n",
      "\n",
      "                Angry       0.95      0.96      0.96       440\n",
      "Cheerful Instrumental       0.96      0.97      0.96       646\n",
      "      Cheerful Vocals       0.97      0.99      0.98       343\n",
      "             Exciting       0.96      0.96      0.96       457\n",
      "                Happy       0.98      0.98      0.98       359\n",
      "                Sober       0.98      0.96      0.97       519\n",
      "\n",
      "             accuracy                           0.97      2764\n",
      "            macro avg       0.97      0.97      0.97      2764\n",
      "         weighted avg       0.97      0.97      0.97      2764\n",
      "\n",
      "[[424   3   0  11   2   0]\n",
      " [  2 624   4   5   3   8]\n",
      " [  0   3 338   0   1   1]\n",
      " [ 13   2   0 438   2   2]\n",
      " [  1   0   5   2 351   0]\n",
      " [  4  16   0   0   0 499]]\n"
     ]
    }
   ],
   "source": [
    "# Method 4 : RandomForest\n",
    "from sklearn.ensemble import RandomForestClassifier\n",
    "model04 = RandomForestClassifier(n_estimators = 400)\n",
    "\n",
    "model04.fit(X_train,y_train)\n",
    "y_pred = model04.predict(X_test)\n",
    "evaluate_on_training_set(y_test,y_pred)"
   ]
  },
  {
   "cell_type": "code",
   "execution_count": 16,
   "metadata": {},
   "outputs": [
    {
     "name": "stdout",
     "output_type": "stream",
     "text": [
      "                       precision    recall  f1-score   support\n",
      "\n",
      "                Angry       0.92      0.91      0.92       440\n",
      "Cheerful Instrumental       0.94      0.96      0.95       646\n",
      "      Cheerful Vocals       0.94      0.97      0.96       343\n",
      "             Exciting       0.91      0.95      0.93       457\n",
      "                Happy       0.96      0.96      0.96       359\n",
      "                Sober       0.99      0.93      0.96       519\n",
      "\n",
      "             accuracy                           0.95      2764\n",
      "            macro avg       0.95      0.95      0.95      2764\n",
      "         weighted avg       0.95      0.95      0.95      2764\n",
      "\n",
      "[[401   6   1  28   4   0]\n",
      " [  5 618   9   5   4   5]\n",
      " [  0   5 333   0   4   1]\n",
      " [ 20   3   0 433   1   0]\n",
      " [  2   0   6   8 343   0]\n",
      " [  7  24   4   0   0 484]]\n"
     ]
    }
   ],
   "source": [
    "# Method 5: Gaussian Naive Bayes\n",
    "from sklearn.naive_bayes import GaussianNB\n",
    "\n",
    "model05 = GaussianNB()\n",
    "\n",
    "model05.fit(X_train_norm, y_train) \n",
    "\n",
    "y_pred = model05.predict(X_test_norm) \n",
    "evaluate_on_training_set(y_test, y_pred)"
   ]
  }
 ],
 "metadata": {
  "kernelspec": {
   "display_name": "Python 3",
   "language": "python",
   "name": "python3"
  },
  "language_info": {
   "codemirror_mode": {
    "name": "ipython",
    "version": 3
   },
   "file_extension": ".py",
   "mimetype": "text/x-python",
   "name": "python",
   "nbconvert_exporter": "python",
   "pygments_lexer": "ipython3",
   "version": "3.8.5"
  }
 },
 "nbformat": 4,
 "nbformat_minor": 4
}

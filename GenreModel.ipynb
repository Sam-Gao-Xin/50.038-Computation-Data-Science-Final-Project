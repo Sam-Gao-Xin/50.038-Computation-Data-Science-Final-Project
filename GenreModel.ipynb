{
 "cells": [
  {
   "cell_type": "code",
   "execution_count": 1,
   "metadata": {},
   "outputs": [],
   "source": [
    "import matplotlib.pyplot as plt # plotting library\n",
    "import numpy as np # library for numerical calculations\n",
    "import pandas as pd # library for reading csv files"
   ]
  },
  {
   "cell_type": "code",
   "execution_count": 2,
   "metadata": {},
   "outputs": [
    {
     "data": {
      "text/html": [
       "<div>\n",
       "<style scoped>\n",
       "    .dataframe tbody tr th:only-of-type {\n",
       "        vertical-align: middle;\n",
       "    }\n",
       "\n",
       "    .dataframe tbody tr th {\n",
       "        vertical-align: top;\n",
       "    }\n",
       "\n",
       "    .dataframe thead th {\n",
       "        text-align: right;\n",
       "    }\n",
       "</style>\n",
       "<table border=\"1\" class=\"dataframe\">\n",
       "  <thead>\n",
       "    <tr style=\"text-align: right;\">\n",
       "      <th></th>\n",
       "      <th>track_genretop</th>\n",
       "      <th>track_acousticness</th>\n",
       "      <th>track_danceability</th>\n",
       "      <th>track_energy</th>\n",
       "      <th>track_instrumentalness</th>\n",
       "      <th>track_liveness</th>\n",
       "      <th>track_speechiness</th>\n",
       "      <th>track_tempo</th>\n",
       "      <th>track_valence</th>\n",
       "    </tr>\n",
       "  </thead>\n",
       "  <tbody>\n",
       "    <tr>\n",
       "      <th>0</th>\n",
       "      <td>Hip-Hop</td>\n",
       "      <td>0.416675</td>\n",
       "      <td>0.675894</td>\n",
       "      <td>0.634476</td>\n",
       "      <td>0.010628</td>\n",
       "      <td>0.177647</td>\n",
       "      <td>0.159310</td>\n",
       "      <td>165.922</td>\n",
       "      <td>0.576661</td>\n",
       "    </tr>\n",
       "    <tr>\n",
       "      <th>1</th>\n",
       "      <td>Hip-Hop</td>\n",
       "      <td>0.374408</td>\n",
       "      <td>0.528643</td>\n",
       "      <td>0.817461</td>\n",
       "      <td>0.001851</td>\n",
       "      <td>0.105880</td>\n",
       "      <td>0.461818</td>\n",
       "      <td>126.957</td>\n",
       "      <td>0.269240</td>\n",
       "    </tr>\n",
       "    <tr>\n",
       "      <th>2</th>\n",
       "      <td>Hip-Hop</td>\n",
       "      <td>0.043567</td>\n",
       "      <td>0.745566</td>\n",
       "      <td>0.701470</td>\n",
       "      <td>0.000697</td>\n",
       "      <td>0.373143</td>\n",
       "      <td>0.124595</td>\n",
       "      <td>100.260</td>\n",
       "      <td>0.621661</td>\n",
       "    </tr>\n",
       "    <tr>\n",
       "      <th>3</th>\n",
       "      <td>Pop</td>\n",
       "      <td>0.951670</td>\n",
       "      <td>0.658179</td>\n",
       "      <td>0.924525</td>\n",
       "      <td>0.965427</td>\n",
       "      <td>0.115474</td>\n",
       "      <td>0.032985</td>\n",
       "      <td>111.562</td>\n",
       "      <td>0.963590</td>\n",
       "    </tr>\n",
       "    <tr>\n",
       "      <th>4</th>\n",
       "      <td>Hip-Hop</td>\n",
       "      <td>0.452217</td>\n",
       "      <td>0.513238</td>\n",
       "      <td>0.560410</td>\n",
       "      <td>0.019443</td>\n",
       "      <td>0.096567</td>\n",
       "      <td>0.525519</td>\n",
       "      <td>114.290</td>\n",
       "      <td>0.894072</td>\n",
       "    </tr>\n",
       "  </tbody>\n",
       "</table>\n",
       "</div>"
      ],
      "text/plain": [
       "  track_genretop  track_acousticness  track_danceability  track_energy  \\\n",
       "0        Hip-Hop            0.416675            0.675894      0.634476   \n",
       "1        Hip-Hop            0.374408            0.528643      0.817461   \n",
       "2        Hip-Hop            0.043567            0.745566      0.701470   \n",
       "3            Pop            0.951670            0.658179      0.924525   \n",
       "4        Hip-Hop            0.452217            0.513238      0.560410   \n",
       "\n",
       "   track_instrumentalness  track_liveness  track_speechiness  track_tempo  \\\n",
       "0                0.010628        0.177647           0.159310      165.922   \n",
       "1                0.001851        0.105880           0.461818      126.957   \n",
       "2                0.000697        0.373143           0.124595      100.260   \n",
       "3                0.965427        0.115474           0.032985      111.562   \n",
       "4                0.019443        0.096567           0.525519      114.290   \n",
       "\n",
       "   track_valence  \n",
       "0       0.576661  \n",
       "1       0.269240  \n",
       "2       0.621661  \n",
       "3       0.963590  \n",
       "4       0.894072  "
      ]
     },
     "execution_count": 2,
     "metadata": {},
     "output_type": "execute_result"
    }
   ],
   "source": [
    "data = pd.read_csv(\"filtered.csv\")\n",
    "data.head()"
   ]
  },
  {
   "cell_type": "code",
   "execution_count": 3,
   "metadata": {},
   "outputs": [
    {
     "data": {
      "text/plain": [
       "<AxesSubplot:xlabel='count', ylabel='track_genretop'>"
      ]
     },
     "execution_count": 3,
     "metadata": {},
     "output_type": "execute_result"
    },
    {
     "data": {
      "image/png": "[encoded data removed]",
      "text/plain": [
       "<Figure size 432x288 with 1 Axes>"
      ]
     },
     "metadata": {
      "needs_background": "light"
     },
     "output_type": "display_data"
    }
   ],
   "source": [
    "import seaborn as sns\n",
    "\n",
    "sns.countplot(y=\"track_genretop\", data=data)"
   ]
  },
  {
   "cell_type": "code",
   "execution_count": 4,
   "metadata": {},
   "outputs": [
    {
     "data": {
      "text/plain": [
       "track_genretop             object\n",
       "track_acousticness        float64\n",
       "track_danceability        float64\n",
       "track_energy              float64\n",
       "track_instrumentalness    float64\n",
       "track_liveness            float64\n",
       "track_speechiness         float64\n",
       "track_tempo               float64\n",
       "track_valence             float64\n",
       "dtype: object"
      ]
     },
     "execution_count": 4,
     "metadata": {},
     "output_type": "execute_result"
    }
   ],
   "source": [
    "data.dtypes"
   ]
  },
  {
   "cell_type": "code",
   "execution_count": 4,
   "metadata": {},
   "outputs": [],
   "source": [
    "from sklearn.model_selection import train_test_split\n",
    "\n",
    "X_train, X_test, y_train, y_test = train_test_split(data.drop('track_genretop',1), \n",
    "                                                    data['track_genretop'],\n",
    "                                                    test_size=0.3,\n",
    "                                                    random_state=0) "
   ]
  },
  {
   "cell_type": "code",
   "execution_count": 5,
   "metadata": {},
   "outputs": [],
   "source": [
    "from sklearn.preprocessing import MinMaxScaler\n",
    " \n",
    "x_scaler = MinMaxScaler() \n",
    "x_scaler.fit(X_train)\n",
    "\n",
    "X_train_norm = x_scaler.transform(X_train)\n",
    "X_test_norm = x_scaler.transform(X_test)"
   ]
  },
  {
   "cell_type": "code",
   "execution_count": 6,
   "metadata": {},
   "outputs": [
    {
     "data": {
      "text/plain": [
       "<AxesSubplot:xlabel='count', ylabel='track_genretop'>"
      ]
     },
     "execution_count": 6,
     "metadata": {},
     "output_type": "execute_result"
    },
    {
     "data": {
      "image/png": "[encoded data removed]",
      "text/plain": [
       "<Figure size 432x288 with 1 Axes>"
      ]
     },
     "metadata": {
      "needs_background": "light"
     },
     "output_type": "display_data"
    }
   ],
   "source": [
    "from sklearn.utils import resample\n",
    "\n",
    "X = pd.concat([X_train, y_train], axis=1)\n",
    "\n",
    "# separate minority and majority classes\n",
    "Blues = X[X.track_genretop == \"Blues\"]\n",
    "Rock = X[X.track_genretop == \"Rock\"]\n",
    "Folk = X[X.track_genretop == \"Folk\"]\n",
    "Electronic = X[X.track_genretop == \"Electronic\"]\n",
    "Spoken = X[X.track_genretop == \"Spoken\"]\n",
    "Instrumental = X[X.track_genretop == \"Instrumental\"]\n",
    "Country = X[X.track_genretop == \"Country\"]\n",
    "Hiphop = X[X.track_genretop == \"Hip-Hop\"]\n",
    "Jazz = X[X.track_genretop == \"Jazz\"]\n",
    "Pop = X[X.track_genretop == \"Pop\"]\n",
    "International = X[X.track_genretop == \"International\"]\n",
    "OH = X[X.track_genretop == \"Old-Time / Historic\"]\n",
    "Classical = X[X.track_genretop == \"Classical\"]\n",
    "Experimental = X[X.track_genretop == \"Experimental\"]\n",
    "\n",
    "# Upsample\n",
    "Blues_upsampled = resample(Blues,\n",
    "                          replace=True, \n",
    "                          n_samples=len(Rock), \n",
    "                          random_state=0)\n",
    "\n",
    "Folk_upsampled = resample(Folk,\n",
    "                          replace=True, \n",
    "                          n_samples=len(Rock), \n",
    "                          random_state=0)\n",
    "\n",
    "Electronic_upsampled = resample(Electronic,\n",
    "                          replace=True, \n",
    "                          n_samples=len(Rock), \n",
    "                          random_state=0)\n",
    "\n",
    "Spoken_upsampled = resample(Spoken,\n",
    "                          replace=True, \n",
    "                          n_samples=len(Rock), \n",
    "                          random_state=0)\n",
    "\n",
    "Instrumental_upsampled = resample(Instrumental,\n",
    "                          replace=True, \n",
    "                          n_samples=len(Rock), \n",
    "                          random_state=0)\n",
    "\n",
    "Country_upsampled = resample(Country,\n",
    "                          replace=True, \n",
    "                          n_samples=len(Rock), \n",
    "                          random_state=0)\n",
    "\n",
    "Hiphop_upsampled = resample(Hiphop,\n",
    "                          replace=True, \n",
    "                          n_samples=len(Rock), \n",
    "                          random_state=0)\n",
    "\n",
    "Jazz_upsampled = resample(Jazz,\n",
    "                          replace=True, \n",
    "                          n_samples=len(Rock), \n",
    "                          random_state=0)\n",
    "\n",
    "Pop_upsampled = resample(Pop,\n",
    "                          replace=True, \n",
    "                          n_samples=len(Rock), \n",
    "                          random_state=0)\n",
    "\n",
    "International_upsampled = resample(International,\n",
    "                          replace=True, \n",
    "                          n_samples=len(Rock), \n",
    "                          random_state=0)\n",
    "\n",
    "OH_upsampled = resample(OH,\n",
    "                          replace=True, \n",
    "                          n_samples=len(Rock), \n",
    "                          random_state=0)\n",
    "\n",
    "Classical_upsampled = resample(Classical,\n",
    "                          replace=True, \n",
    "                          n_samples=len(Rock), \n",
    "                          random_state=0)\n",
    "\n",
    "Experimental_upsampled = resample(Experimental,\n",
    "                          replace=True, \n",
    "                          n_samples=len(Rock), \n",
    "                          random_state=0)\n",
    "\n",
    "upsampled = pd.concat([Rock,Blues_upsampled,Folk_upsampled,Electronic_upsampled,Spoken_upsampled,Instrumental_upsampled,Country_upsampled,Hiphop_upsampled,Jazz_upsampled,Pop_upsampled,International_upsampled,OH_upsampled,Classical_upsampled,Experimental_upsampled])\n",
    "\n",
    "sns.countplot(y=\"track_genretop\", data=upsampled)"
   ]
  },
  {
   "cell_type": "code",
   "execution_count": 12,
   "metadata": {},
   "outputs": [],
   "source": [
    "y_train_oversampled = upsampled.track_genretop\n",
    "X_train_oversampled = upsampled.drop('track_genretop', axis=1)\n",
    "\n",
    "x_oversampled_scaler = MinMaxScaler() \n",
    "x_oversampled_scaler.fit(X_train_oversampled)\n",
    "\n",
    "X_train_oversampled_norm = x_scaler.transform(X_train_oversampled)"
   ]
  },
  {
   "cell_type": "code",
   "execution_count": 14,
   "metadata": {},
   "outputs": [],
   "source": [
    "from sklearn.metrics import classification_report, confusion_matrix\n",
    "\n",
    "def evaluate_on_training_set(y_test, y_pred):\n",
    "    \n",
    "  print(classification_report(y_test,  y_pred, zero_division=0))\n",
    "  print(confusion_matrix(y_test,y_pred))"
   ]
  },
  {
   "cell_type": "code",
   "execution_count": 15,
   "metadata": {},
   "outputs": [
    {
     "name": "stdout",
     "output_type": "stream",
     "text": [
      "                     precision    recall  f1-score   support\n",
      "\n",
      "              Blues       0.00      0.00      0.00        20\n",
      "          Classical       0.40      0.33      0.36        94\n",
      "            Country       0.00      0.00      0.00         3\n",
      "         Electronic       0.45      0.56      0.50       904\n",
      "       Experimental       0.00      0.00      0.00       246\n",
      "               Folk       0.39      0.33      0.36       325\n",
      "            Hip-Hop       0.51      0.38      0.43       335\n",
      "       Instrumental       0.00      0.00      0.00        56\n",
      "      International       0.00      0.00      0.00        84\n",
      "               Jazz       0.00      0.00      0.00        94\n",
      "Old-Time / Historic       0.74      0.78      0.76       119\n",
      "                Pop       0.00      0.00      0.00       150\n",
      "               Rock       0.55      0.77      0.64      1493\n",
      "             Spoken       0.00      0.00      0.00         8\n",
      "\n",
      "           accuracy                           0.51      3931\n",
      "          macro avg       0.22      0.22      0.22      3931\n",
      "       weighted avg       0.42      0.51      0.46      3931\n",
      "\n",
      "[[   0    0    0    6    0    4    1    0    0    0    1    0    8    0]\n",
      " [   0   31    0   10    0   26    0    0    0    0    4    0   23    0]\n",
      " [   0    0    0    0    0    0    0    0    0    0    0    0    3    0]\n",
      " [   0    9    0  503    0   24   35    0    0    0    1    0  332    0]\n",
      " [   0   13    0   93    0   17   18    0    0    0    5    0  100    0]\n",
      " [   0    4    0   33    0  108   12    0    0    0   10    0  158    0]\n",
      " [   0    0    0  117    0    3  126    0    0    0    0    0   89    0]\n",
      " [   0    1    0   23    0    3    1    0    0    0    1    0   27    0]\n",
      " [   0    2    0   25    0    5    4    0    0    0    3    0   45    0]\n",
      " [   0    2    0   21    0   12    6    0    0    0    1    0   52    0]\n",
      " [   0    7    0    6    0    4    4    0    0    0   93    0    5    0]\n",
      " [   0    1    0   35    0   10    3    0    0    0    5    0   96    0]\n",
      " [   0    8    0  233    0   60   39    0    0    0    1    0 1152    0]\n",
      " [   0    0    0    2    0    1    0    0    0    0    0    0    5    0]]\n"
     ]
    }
   ],
   "source": [
    "# Method 1: Decision Tree\n",
    "from sklearn import tree\n",
    "\n",
    "model01 = tree.DecisionTreeClassifier(max_depth=5) \n",
    "\n",
    "model01.fit(X_train,y_train)\n",
    "\n",
    "y_pred = model01.predict(X_test)\n",
    "evaluate_on_training_set(y_test, y_pred)"
   ]
  },
  {
   "cell_type": "code",
   "execution_count": 26,
   "metadata": {},
   "outputs": [
    {
     "name": "stdout",
     "output_type": "stream",
     "text": [
      "                     precision    recall  f1-score   support\n",
      "\n",
      "              Blues       0.03      0.05      0.04        20\n",
      "          Classical       0.33      0.43      0.37        94\n",
      "            Country       0.00      0.00      0.00         3\n",
      "         Electronic       0.38      0.31      0.34       904\n",
      "       Experimental       0.10      0.11      0.11       246\n",
      "               Folk       0.20      0.22      0.21       325\n",
      "            Hip-Hop       0.36      0.33      0.35       335\n",
      "       Instrumental       0.09      0.09      0.09        56\n",
      "      International       0.08      0.12      0.10        84\n",
      "               Jazz       0.07      0.10      0.08        94\n",
      "Old-Time / Historic       0.70      0.73      0.72       119\n",
      "                Pop       0.06      0.07      0.06       150\n",
      "               Rock       0.52      0.52      0.52      1493\n",
      "             Spoken       0.00      0.00      0.00         8\n",
      "\n",
      "           accuracy                           0.36      3931\n",
      "          macro avg       0.21      0.22      0.21      3931\n",
      "       weighted avg       0.37      0.36      0.37      3931\n",
      "\n",
      "[[  1   1   0   3   0   4   3   0   0   1   0   1   6   0]\n",
      " [  0  40   0  11   4  14   0   1   0   7   3   2  11   1]\n",
      " [  0   0   0   0   0   0   0   0   0   0   0   0   3   0]\n",
      " [  6  17   1 282  79  52  72  14  28  29   3  37 282   2]\n",
      " [  0   9   0  56  28  27  14   2   1   7   5   9  88   0]\n",
      " [  3  13   1  32  23  71  17   3   9  21  10  14 105   3]\n",
      " [  2   4   0  63  35  16 110   3  12  10   2   9  69   0]\n",
      " [  2   0   0  11   5   6   1   5   0   3   1   4  18   0]\n",
      " [  1   1   0  13   5   7   3   2  10   2   3   5  32   0]\n",
      " [  1   4   0   8   6  18   6   4   4   9   0   4  30   0]\n",
      " [  1   2   0   5   2   7   1   0   3   0  87   5   6   0]\n",
      " [  1   4   0  28  10  15   8   3   6   2   2  10  60   1]\n",
      " [ 12  25   0 227  76 119  67  16  49  45   8  79 769   1]\n",
      " [  0   0   0   2   1   0   0   0   0   0   0   0   5   0]]\n"
     ]
    }
   ],
   "source": [
    "from sklearn import tree\n",
    "\n",
    "model01 = tree.DecisionTreeClassifier(max_depth=44) \n",
    "\n",
    "model01.fit(X_train_oversampled,y_train_oversampled)\n",
    "\n",
    "y_pred = model01.predict(X_test)\n",
    "evaluate_on_training_set(y_test, y_pred)"
   ]
  },
  {
   "cell_type": "code",
   "execution_count": 64,
   "metadata": {},
   "outputs": [
    {
     "name": "stdout",
     "output_type": "stream",
     "text": [
      "                     precision    recall  f1-score   support\n",
      "\n",
      "              Blues       0.00      0.00      0.00        20\n",
      "          Classical       0.37      0.59      0.46        94\n",
      "            Country       0.00      0.00      0.00         3\n",
      "         Electronic       0.45      0.52      0.48       904\n",
      "       Experimental       0.07      0.01      0.01       246\n",
      "               Folk       0.32      0.28      0.30       325\n",
      "            Hip-Hop       0.56      0.34      0.42       335\n",
      "       Instrumental       0.00      0.00      0.00        56\n",
      "      International       0.24      0.05      0.08        84\n",
      "               Jazz       0.30      0.03      0.06        94\n",
      "Old-Time / Historic       0.67      0.71      0.69       119\n",
      "                Pop       0.33      0.03      0.05       150\n",
      "               Rock       0.55      0.75      0.63      1493\n",
      "             Spoken       0.00      0.00      0.00         8\n",
      "\n",
      "           accuracy                           0.50      3931\n",
      "          macro avg       0.28      0.24      0.23      3931\n",
      "       weighted avg       0.44      0.50      0.45      3931\n",
      "\n",
      "[[   0    0    0    4    0    5    1    0    2    0    1    0    7    0]\n",
      " [   0   55    0    9    0   13    0    0    0    1    8    0    8    0]\n",
      " [   0    0    0    0    0    0    0    0    0    0    0    0    3    0]\n",
      " [   1   15    0  473    9   35   32    0    1    2    3    1  332    0]\n",
      " [   0   16    0   83    2   15   12    0    0    0    4    3  111    0]\n",
      " [   0   24    0   37    5   92    8    0    4    0    8    2  145    0]\n",
      " [   0    0    0  101    2    7  114    0    0    1    2    0  108    0]\n",
      " [   0    2    0   21    1    5    1    0    0    0    1    0   25    0]\n",
      " [   0    2    0   24    3    3    3    0    4    0    4    1   40    0]\n",
      " [   1    9    0   17    2   10    4    1    0    3    0    0   47    0]\n",
      " [   0    6    0    5    0   10    1    0    1    1   85    0   10    0]\n",
      " [   0    3    0   46    1   12    2    0    1    0    1    4   80    0]\n",
      " [   0   14    0  236    4   81   25    1    4    2    9    1 1116    0]\n",
      " [   0    1    0    1    0    2    0    0    0    0    0    0    4    0]]\n"
     ]
    }
   ],
   "source": [
    "# Method 2 : K neighbors\n",
    "from sklearn.neighbors import KNeighborsClassifier\n",
    "\n",
    "model02 = KNeighborsClassifier(n_neighbors=13)\n",
    "\n",
    "model02.fit(X_train_norm, y_train) \n",
    "\n",
    "y_pred = model02.predict(X_test_norm)\n",
    "evaluate_on_training_set(y_test, y_pred)"
   ]
  },
  {
   "cell_type": "code",
   "execution_count": 36,
   "metadata": {},
   "outputs": [
    {
     "name": "stdout",
     "output_type": "stream",
     "text": [
      "                     precision    recall  f1-score   support\n",
      "\n",
      "              Blues       0.01      0.35      0.03        20\n",
      "          Classical       0.26      0.59      0.36        94\n",
      "            Country       0.00      0.00      0.00         3\n",
      "         Electronic       0.55      0.25      0.34       904\n",
      "       Experimental       0.11      0.10      0.11       246\n",
      "               Folk       0.23      0.11      0.15       325\n",
      "            Hip-Hop       0.46      0.41      0.43       335\n",
      "       Instrumental       0.03      0.18      0.05        56\n",
      "      International       0.09      0.20      0.13        84\n",
      "               Jazz       0.04      0.10      0.06        94\n",
      "Old-Time / Historic       0.49      0.79      0.60       119\n",
      "                Pop       0.06      0.12      0.08       150\n",
      "               Rock       0.72      0.24      0.36      1493\n",
      "             Spoken       0.00      0.12      0.01         8\n",
      "\n",
      "           accuracy                           0.25      3931\n",
      "          macro avg       0.22      0.25      0.19      3931\n",
      "       weighted avg       0.49      0.25      0.31      3931\n",
      "\n",
      "[[  7   0   2   1   0   1   1   1   1   0   2   0   0   4]\n",
      " [  6  55   0   2   2   4   0   2   1   4  14   0   0   4]\n",
      " [  1   0   0   0   0   0   0   0   1   0   0   0   1   0]\n",
      " [ 93  24  30 222  92  21  49  90  39  50   6  66  66  56]\n",
      " [ 24  20   8  30  25  11  16  29   2  11  10  25  20  15]\n",
      " [ 68  44   8   7   9  36  14  27  15  20  23  20  10  24]\n",
      " [ 32   0   7  29  18   5 138  38  14  13   5  16   9  11]\n",
      " [  5   2   4   5   6   3   1  10   1   2   1   5   2   9]\n",
      " [ 15   2   1  10   2   1   4   3  17   1   9   3  10   6]\n",
      " [ 11  13   3   1   3   9   4  13   6   9   3   5   8   6]\n",
      " [  4  12   0   0   0   2   2   0   1   1  94   1   0   2]\n",
      " [ 30   6   7  12  11   5  10  15   6   7   1  18  12  10]\n",
      " [191  34 104  83  59  57  64 115  80  83  25 141 358  99]\n",
      " [  3   1   0   0   0   0   0   1   0   1   0   0   1   1]]\n"
     ]
    }
   ],
   "source": [
    "from sklearn.neighbors import KNeighborsClassifier\n",
    "\n",
    "model02 = KNeighborsClassifier(n_neighbors=200)\n",
    "\n",
    "model02.fit(X_train_oversampled_norm, y_train_oversampled) \n",
    "\n",
    "y_pred = model02.predict(X_test_norm)\n",
    "evaluate_on_training_set(y_test, y_pred)"
   ]
  },
  {
   "cell_type": "code",
   "execution_count": 76,
   "metadata": {},
   "outputs": [
    {
     "name": "stdout",
     "output_type": "stream",
     "text": [
      "                     precision    recall  f1-score   support\n",
      "\n",
      "              Blues       0.00      0.00      0.00        20\n",
      "          Classical       0.69      0.12      0.20        94\n",
      "            Country       0.00      0.00      0.00         3\n",
      "         Electronic       0.51      0.37      0.43       904\n",
      "       Experimental       0.00      0.00      0.00       246\n",
      "               Folk       0.27      0.20      0.23       325\n",
      "            Hip-Hop       0.56      0.15      0.24       335\n",
      "       Instrumental       0.00      0.00      0.00        56\n",
      "      International       0.00      0.00      0.00        84\n",
      "               Jazz       0.10      0.01      0.02        94\n",
      "Old-Time / Historic       0.49      0.76      0.60       119\n",
      "                Pop       0.00      0.00      0.00       150\n",
      "               Rock       0.48      0.88      0.62      1493\n",
      "             Spoken       0.00      0.00      0.00         8\n",
      "\n",
      "           accuracy                           0.47      3931\n",
      "          macro avg       0.22      0.18      0.17      3931\n",
      "       weighted avg       0.40      0.47      0.40      3931\n",
      "\n",
      "[[   0    0    0    3    0    3    1    0    0    0    1    0   12    0]\n",
      " [   0   11    0    3    0   34    0    0    0    3   13    0   30    0]\n",
      " [   0    0    0    0    0    1    0    0    0    0    0    0    2    0]\n",
      " [   0    2    2  337    0   23   12    0    0    1   12    0  515    0]\n",
      " [   0    0    0   42    0   21    5    0    0    1   16    0  161    0]\n",
      " [   0    1    4   19    0   65    3    0    0    2   20    0  211    0]\n",
      " [   0    0    0  104    0    3   51    0    0    0    1    0  176    0]\n",
      " [   0    0    1    7    0    3    0    0    0    0    0    0   45    0]\n",
      " [   0    0    0   13    0    8    1    0    0    0    5    0   57    0]\n",
      " [   0    0    0    5    0    8    4    0    0    1    5    0   71    0]\n",
      " [   0    0    0    3    0   20    0    0    0    0   90    0    6    0]\n",
      " [   0    1    0   21    0   11    2    0    0    0    2    0  113    0]\n",
      " [   0    1    6  105    0   41   12    0    0    2   17    0 1309    0]\n",
      " [   0    0    0    0    0    0    0    0    0    0    0    0    8    0]]\n"
     ]
    }
   ],
   "source": [
    "# Method 3 : AdaBoost\n",
    "from sklearn.ensemble import AdaBoostClassifier\n",
    "model03 = AdaBoostClassifier(n_estimators=300, learning_rate=0.1)\n",
    "\n",
    "model03.fit(X_train_norm, y_train) \n",
    "\n",
    "y_pred = model03.predict(X_test_norm) \n",
    "evaluate_on_training_set(y_test, y_pred)"
   ]
  },
  {
   "cell_type": "code",
   "execution_count": 41,
   "metadata": {},
   "outputs": [
    {
     "name": "stdout",
     "output_type": "stream",
     "text": [
      "                     precision    recall  f1-score   support\n",
      "\n",
      "              Blues       0.02      0.50      0.04        20\n",
      "          Classical       0.42      0.26      0.32        94\n",
      "            Country       0.00      0.00      0.00         3\n",
      "         Electronic       0.43      0.19      0.26       904\n",
      "       Experimental       0.13      0.09      0.11       246\n",
      "               Folk       0.20      0.09      0.12       325\n",
      "            Hip-Hop       0.31      0.51      0.39       335\n",
      "       Instrumental       0.01      0.05      0.02        56\n",
      "      International       0.03      0.07      0.05        84\n",
      "               Jazz       0.04      0.11      0.06        94\n",
      "Old-Time / Historic       0.44      0.78      0.57       119\n",
      "                Pop       0.09      0.13      0.11       150\n",
      "               Rock       0.68      0.34      0.46      1493\n",
      "             Spoken       0.00      0.00      0.00         8\n",
      "\n",
      "           accuracy                           0.27      3931\n",
      "          macro avg       0.20      0.22      0.18      3931\n",
      "       weighted avg       0.44      0.27      0.32      3931\n",
      "\n",
      "[[ 10   0   0   1   0   1   4   0   1   2   1   0   0   0]\n",
      " [ 27  24   1   3   0   8   2   0   0  12  17   0   0   0]\n",
      " [  1   0   0   1   0   1   0   0   0   0   0   0   0   0]\n",
      " [ 69   8  13 171  87  17 195  54  37  50  13  52  97  41]\n",
      " [ 32   4   6  23  22   9  32  14   7  19  16  13  38  11]\n",
      " [135   4   9   7   1  29  16  18   7  28  28  17  18   8]\n",
      " [ 24   0   3  19   9   2 172  27  16  13   0  16  16  18]\n",
      " [  9   1   1   4   3   4   5   3   4   3   1   5   8   5]\n",
      " [ 26   1   0   8   3   1  14   2   6   3   5   3  11   1]\n",
      " [ 31   2   0   2   3   2  10   5   3  10   6   4  14   2]\n",
      " [ 11   5   0   0   0   4   2   1   1   2  93   0   0   0]\n",
      " [ 19   2   3  13  11   7  10  11   7   7   2  20  32   6]\n",
      " [152   6  51 141  33  57  88  74  82  86  27 100 509  87]\n",
      " [  2   0   0   1   1   1   0   0   1   1   0   0   1   0]]\n"
     ]
    }
   ],
   "source": [
    "from sklearn.ensemble import AdaBoostClassifier\n",
    "model03 = AdaBoostClassifier(n_estimators=300, learning_rate=0.1)\n",
    "\n",
    "model03.fit(X_train_oversampled_norm, y_train_oversampled) \n",
    "\n",
    "y_pred = model03.predict(X_test_norm) \n",
    "evaluate_on_training_set(y_test, y_pred)"
   ]
  },
  {
   "cell_type": "code",
   "execution_count": 83,
   "metadata": {},
   "outputs": [
    {
     "name": "stdout",
     "output_type": "stream",
     "text": [
      "                     precision    recall  f1-score   support\n",
      "\n",
      "              Blues       0.00      0.00      0.00        20\n",
      "          Classical       0.60      0.60      0.60        94\n",
      "            Country       0.00      0.00      0.00         3\n",
      "         Electronic       0.50      0.58      0.53       904\n",
      "       Experimental       0.73      0.03      0.06       246\n",
      "               Folk       0.43      0.31      0.36       325\n",
      "            Hip-Hop       0.61      0.46      0.53       335\n",
      "       Instrumental       0.00      0.00      0.00        56\n",
      "      International       0.71      0.06      0.11        84\n",
      "               Jazz       0.20      0.01      0.02        94\n",
      "Old-Time / Historic       0.78      0.88      0.83       119\n",
      "                Pop       0.00      0.00      0.00       150\n",
      "               Rock       0.56      0.80      0.66      1493\n",
      "             Spoken       0.00      0.00      0.00         8\n",
      "\n",
      "           accuracy                           0.55      3931\n",
      "          macro avg       0.37      0.27      0.26      3931\n",
      "       weighted avg       0.52      0.55      0.49      3931\n",
      "\n",
      "[[   0    0    0    5    0    3    0    0    0    0    0    0   12    0]\n",
      " [   0   56    0    9    0   10    0    0    0    0    3    0   16    0]\n",
      " [   0    0    0    0    0    0    0    0    0    0    0    0    3    0]\n",
      " [   0   10    0  522    1   18   32    0    0    1    0    0  320    0]\n",
      " [   0    9    0   96    8   15    9    0    0    1    6    2  100    0]\n",
      " [   0    7    0   24    0  101   11    0    2    0    8    0  172    0]\n",
      " [   0    0    0   96    1    2  155    0    0    0    0    0   81    0]\n",
      " [   0    0    0   18    0    3    1    0    0    0    1    0   33    0]\n",
      " [   0    0    0   28    1    2    5    0    5    1    5    0   37    0]\n",
      " [   0    4    0   15    0   12    6    0    0    1    0    0   56    0]\n",
      " [   0    3    0    5    0    1    0    0    0    0  105    0    5    0]\n",
      " [   0    2    0   41    0    8    2    0    0    0    3    0   94    0]\n",
      " [   0    3    0  190    0   60   33    0    0    1    4    3 1199    0]\n",
      " [   0    0    0    2    0    1    0    0    0    0    0    0    5    0]]\n"
     ]
    }
   ],
   "source": [
    "# Method 4 : RandomForest\n",
    "from sklearn.ensemble import RandomForestClassifier\n",
    "model04 = RandomForestClassifier(n_estimators = 400)\n",
    "\n",
    "model04.fit(X_train,y_train)\n",
    "y_pred = model04.predict(X_test)\n",
    "evaluate_on_training_set(y_test,y_pred)"
   ]
  },
  {
   "cell_type": "code",
   "execution_count": 45,
   "metadata": {},
   "outputs": [
    {
     "name": "stdout",
     "output_type": "stream",
     "text": [
      "                     precision    recall  f1-score   support\n",
      "\n",
      "              Blues       0.50      0.05      0.09        20\n",
      "          Classical       0.55      0.60      0.57        94\n",
      "            Country       0.00      0.00      0.00         3\n",
      "         Electronic       0.52      0.53      0.53       904\n",
      "       Experimental       0.28      0.04      0.08       246\n",
      "               Folk       0.37      0.39      0.38       325\n",
      "            Hip-Hop       0.55      0.50      0.52       335\n",
      "       Instrumental       0.00      0.00      0.00        56\n",
      "      International       0.42      0.12      0.19        84\n",
      "               Jazz       0.18      0.04      0.07        94\n",
      "Old-Time / Historic       0.76      0.89      0.82       119\n",
      "                Pop       0.15      0.02      0.04       150\n",
      "               Rock       0.57      0.78      0.66      1493\n",
      "             Spoken       0.00      0.00      0.00         8\n",
      "\n",
      "           accuracy                           0.54      3931\n",
      "          macro avg       0.35      0.28      0.28      3931\n",
      "       weighted avg       0.49      0.54      0.50      3931\n",
      "\n",
      "[[   1    0    0    4    0    5    3    0    1    0    0    0    6    0]\n",
      " [   0   56    0    8    0   14    0    0    0    1    4    0   11    0]\n",
      " [   0    0    0    0    0    1    0    0    0    0    0    0    2    0]\n",
      " [   1   12    0  478    8   32   43    1    1    5    1    4  318    0]\n",
      " [   0    8    0   77   11   25   14    1    1    2    5    3   99    0]\n",
      " [   0   11    0   22    5  126   12    0    5    4    9    1  129    1]\n",
      " [   0    0    0   72    5    3  169    0    1    1    0    1   83    0]\n",
      " [   0    0    0   17    0    4    3    0    0    1    1    0   30    0]\n",
      " [   0    1    0   22    2    5    5    0   10    1    5    0   33    0]\n",
      " [   0    5    0   10    0   17    9    0    0    4    1    0   48    0]\n",
      " [   0    3    0    5    0    2    1    0    0    0  106    0    2    0]\n",
      " [   0    2    0   29    3   14    3    0    0    0    2    3   94    0]\n",
      " [   0    3    0  165    5   90   47    0    5    3    5    8 1162    0]\n",
      " [   0    0    0    2    0    2    0    0    0    0    0    0    4    0]]\n"
     ]
    }
   ],
   "source": [
    "from sklearn.ensemble import RandomForestClassifier\n",
    "model04 = RandomForestClassifier(n_estimators = 400)\n",
    "\n",
    "model04.fit(X_train_oversampled,y_train_oversampled)\n",
    "y_pred = model04.predict(X_test)\n",
    "evaluate_on_training_set(y_test,y_pred)"
   ]
  },
  {
   "cell_type": "code",
   "execution_count": 88,
   "metadata": {},
   "outputs": [
    {
     "name": "stdout",
     "output_type": "stream",
     "text": [
      "                     precision    recall  f1-score   support\n",
      "\n",
      "              Blues       0.00      0.00      0.00        20\n",
      "          Classical       0.21      0.62      0.31        94\n",
      "            Country       0.00      0.00      0.00         3\n",
      "         Electronic       0.51      0.45      0.48       904\n",
      "       Experimental       0.00      0.00      0.00       246\n",
      "               Folk       0.28      0.39      0.33       325\n",
      "            Hip-Hop       0.43      0.43      0.43       335\n",
      "       Instrumental       0.00      0.00      0.00        56\n",
      "      International       0.08      0.05      0.06        84\n",
      "               Jazz       0.00      0.00      0.00        94\n",
      "Old-Time / Historic       0.48      0.58      0.52       119\n",
      "                Pop       0.00      0.00      0.00       150\n",
      "               Rock       0.57      0.72      0.64      1493\n",
      "             Spoken       0.00      0.00      0.00         8\n",
      "\n",
      "           accuracy                           0.48      3931\n",
      "          macro avg       0.18      0.23      0.20      3931\n",
      "       weighted avg       0.42      0.48      0.44      3931\n",
      "\n",
      "[[   0    1    0    4    0    8    0    0    0    0    3    0    4    0]\n",
      " [   0   58    0    6    0   12    0    0    0    0   12    0    6    0]\n",
      " [   0    0    0    0    0    1    0    0    0    0    0    0    2    0]\n",
      " [   0   36    0  409    0   51   71    0    5    0   11    0  321    0]\n",
      " [   0   26    0   70    0   28   16    0    2    0    9    3   92    0]\n",
      " [   0   48    0   13    0  126   12    0    0    0   13    0  113    0]\n",
      " [   0    5    0   89    0   11  144    0    3    0    2    1   80    0]\n",
      " [   0    2    0   15    0    8    1    0    1    0    2    0   27    0]\n",
      " [   0    6    0   15    0   10   11    0    4    0    7    0   31    0]\n",
      " [   0   15    0    8    0   19    9    0    1    0    2    0   40    0]\n",
      " [   0   23    0    5    0   15    1    0    0    0   69    1    5    0]\n",
      " [   0    5    0   32    0   25   12    0    1    0    1    0   74    0]\n",
      " [   0   54    0  130    0  127   60    0   32    0   14    3 1073    0]\n",
      " [   0    1    0    3    0    2    0    0    0    0    0    0    2    0]]\n"
     ]
    }
   ],
   "source": [
    "# Method 5: Gaussian Naive Bayes\n",
    "from sklearn.naive_bayes import GaussianNB\n",
    "\n",
    "model05 = GaussianNB()\n",
    "\n",
    "model05.fit(X_train_norm, y_train) \n",
    "\n",
    "y_pred = model05.predict(X_test_norm) \n",
    "evaluate_on_training_set(y_test, y_pred)"
   ]
  },
  {
   "cell_type": "code",
   "execution_count": 46,
   "metadata": {},
   "outputs": [
    {
     "name": "stdout",
     "output_type": "stream",
     "text": [
      "                     precision    recall  f1-score   support\n",
      "\n",
      "              Blues       0.00      0.00      0.00        20\n",
      "          Classical       0.14      0.69      0.24        94\n",
      "            Country       0.00      0.67      0.00         3\n",
      "         Electronic       0.58      0.33      0.42       904\n",
      "       Experimental       0.00      0.00      0.00       246\n",
      "               Folk       0.11      0.02      0.03       325\n",
      "            Hip-Hop       0.42      0.44      0.43       335\n",
      "       Instrumental       0.04      0.04      0.04        56\n",
      "      International       0.08      0.10      0.09        84\n",
      "               Jazz       0.04      0.05      0.04        94\n",
      "Old-Time / Historic       0.40      0.58      0.47       119\n",
      "                Pop       0.06      0.19      0.09       150\n",
      "               Rock       0.74      0.22      0.34      1493\n",
      "             Spoken       0.00      0.00      0.00         8\n",
      "\n",
      "           accuracy                           0.24      3931\n",
      "          macro avg       0.19      0.24      0.16      3931\n",
      "       weighted avg       0.48      0.24      0.29      3931\n",
      "\n",
      "[[  0   2   8   1   0   1   2   0   1   0   3   2   0   0]\n",
      " [  0  65   7   2   0   0   1   0   0   2  14   3   0   0]\n",
      " [  0   0   2   0   0   0   0   0   0   0   0   1   0   0]\n",
      " [  2  60 174 295   9  10  82  21  29  26  16 125  48   7]\n",
      " [  1  41  50  48   0   7  21   3   4   5  10  30  19   7]\n",
      " [  2  91 148   4   0   6   9   2   1   9  18  23   5   7]\n",
      " [  3   4  36  47   3   4 149   1  12   3   5  35  12  21]\n",
      " [  0   4  19   9   0   2   0   2   3   2   2   9   2   2]\n",
      " [  1   7  21   9   0   0  10   1   8   2   8   5   9   3]\n",
      " [  1  29  19   3   0   0   7   3   1   5   4   9   8   5]\n",
      " [  1  26  11   2   1   0   1   1   1   1  69   0   0   5]\n",
      " [  0  13  56  15   1   4   8   2   3   3   2  29  10   4]\n",
      " [  4 111 529  74   1  21  69  11  34  77  23 192 326  21]\n",
      " [  0   1   5   0   0   0   0   0   0   0   0   1   1   0]]\n"
     ]
    }
   ],
   "source": [
    "from sklearn.naive_bayes import GaussianNB\n",
    "\n",
    "model05 = GaussianNB()\n",
    "\n",
    "model05.fit(X_train_oversampled_norm, y_train_oversampled) \n",
    "\n",
    "y_pred = model05.predict(X_test_norm) \n",
    "evaluate_on_training_set(y_test, y_pred)"
   ]
  }
 ],
 "metadata": {
  "kernelspec": {
   "display_name": "Python 3",
   "language": "python",
   "name": "python3"
  },
  "language_info": {
   "codemirror_mode": {
    "name": "ipython",
    "version": 3
   },
   "file_extension": ".py",
   "mimetype": "text/x-python",
   "name": "python",
   "nbconvert_exporter": "python",
   "pygments_lexer": "ipython3",
   "version": "3.8.5"
  }
 },
 "nbformat": 4,
 "nbformat_minor": 4
}
